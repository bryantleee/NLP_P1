{
 "cells": [
  {
   "cell_type": "code",
   "execution_count": 7,
   "metadata": {},
   "outputs": [],
   "source": [
    "from collections import Counter\n",
    "import pandas as pd\n",
    "import math\n",
    "import re"
   ]
  },
  {
   "cell_type": "code",
   "execution_count": 21,
   "metadata": {},
   "outputs": [],
   "source": [
    "\n",
    "class bag_of_words_nb_classifier():\n",
    "    def __init__(self, training_truthful_text, training_deceptive_text):\n",
    "        self.truthful_text = self.add_start_characters(training_truthful_text)\n",
    "        self.deceptive_text = self.add_start_characters(training_deceptive_text)\n",
    "        \n",
    "        self.truthful_reviews_Counter = Counter(self.truthful_text.split())\n",
    "        self.deceptive_reviews_Counter = Counter(self.deceptive_text.split())\n",
    "        \n",
    "        self.truthful_total_words = sum(self.truthful_reviews_Counter.values())\n",
    "        self.deceptive_total_words = sum(self.deceptive_reviews_Counter.values())\n",
    "        \n",
    "        self.truthful_reviews_len = len(self.truthful_text.split('\\n'))\n",
    "        self.deceptive_reviews_len = len(self.truthful_text.split('\\n'))\n",
    "\n",
    "        self.both_reviews_Counter = self.truthful_reviews_Counter + self.deceptive_reviews_Counter\n",
    "        self.vocabulary_size = len(self.both_reviews_Counter.keys())\n",
    "        self.word_pattern = re.compile(\"(\\w+|<s> |[,.!;])\")\n",
    "        \n",
    "        self.k = 0.2\n",
    "\n",
    "    def add_start_characters(self, words):\n",
    "        words = '<s> ' + words\n",
    "        words = words.replace('\\n', ' <s> ')\n",
    "        return words[:-5]\n",
    "        \n",
    "    def smoothed_word_log_prob(self, word, counter, total):\n",
    "        return math.log((counter[word] + self.k) / (total + (self.vocabulary_size*self.k)))\n",
    "    \n",
    "    \n",
    "    def smoothed_review_log_prob(self, review, counter, total):\n",
    "        log_prob = 0.0\n",
    "        for word in self.word_pattern.findall(review):\n",
    "            log_prob += self.smoothed_word_log_prob(word, counter, total)\n",
    "        return log_prob\n",
    "\n",
    "    \n",
    "    def classify_review(self, review):\n",
    "        review = '<s> ' + review\n",
    "        truthful_prob = self.smoothed_review_log_prob(review,\n",
    "                            self.truthful_reviews_Counter, self.truthful_total_words)\n",
    "        deceptive_prob = self.smoothed_review_log_prob(review,\n",
    "                                self.deceptive_reviews_Counter, self.deceptive_total_words)\n",
    "\n",
    "        # get ratio between the two (since this training set has the same number of reviews, this code is optional)\n",
    "        truthful_prob = truthful_prob + \\\n",
    "            math.log(self.truthful_reviews_len/(self.truthful_reviews_len + self.deceptive_reviews_len))\n",
    "        deceptive_prob = deceptive_prob + \\\n",
    "            math.log(self.deceptive_reviews_len /(self.truthful_reviews_len + self.deceptive_reviews_len))\n",
    "\n",
    "        return 0 if truthful_prob >= deceptive_prob else 1\n"
   ]
  },
  {
   "cell_type": "code",
   "execution_count": null,
   "metadata": {},
   "outputs": [],
   "source": []
  },
  {
   "cell_type": "markdown",
   "metadata": {},
   "source": [
    "## Training"
   ]
  },
  {
   "cell_type": "code",
   "execution_count": 24,
   "metadata": {},
   "outputs": [],
   "source": [
    "with open('./DATASET/train/truthful.txt') as t, open('./DATASET/train/deceptive.txt') as d:\n",
    "    truthful = t.read()\n",
    "    deceptive = d.read()\n",
    "nb = bag_of_words_nb_classifier(truthful, deceptive)"
   ]
  },
  {
   "cell_type": "markdown",
   "metadata": {},
   "source": [
    "## Validation"
   ]
  },
  {
   "cell_type": "code",
   "execution_count": 10,
   "metadata": {},
   "outputs": [],
   "source": [
    "with open('./DATASET/validation/truthful.txt') as t, open('./DATASET/validation/deceptive.txt') as d:\n",
    "    truthful_validation_text = t.read()\n",
    "    deceptive_validation_text = d.read()"
   ]
  },
  {
   "cell_type": "code",
   "execution_count": 15,
   "metadata": {},
   "outputs": [
    {
     "name": "stdout",
     "output_type": "stream",
     "text": [
      "Counter({'truthful': 120, 'deceptive': 9})\n",
      "Accuracy rate: 0.9302325581395349\n"
     ]
    }
   ],
   "source": [
    "truthful_validation_classifications = \\\n",
    "    [nb.classify_review(review) for review in truthful_validation_text.split('\\n')]\n",
    "truthful_validation_accuracy_counts = Counter(truthful_validation_classifications)\n",
    "print(truthful_validation_accuracy_counts)\n",
    "print('Accuracy rate:', \n",
    "      truthful_validation_accuracy_counts['truthful']/sum(truthful_validation_accuracy_counts.values()))"
   ]
  },
  {
   "cell_type": "code",
   "execution_count": 12,
   "metadata": {},
   "outputs": [
    {
     "name": "stdout",
     "output_type": "stream",
     "text": [
      "Counter({'deceptive': 121, 'truthful': 8})\n",
      "Accuracy rate: 0.937984496124031\n"
     ]
    }
   ],
   "source": [
    "deceptive_validation_classifications = \\\n",
    "    [nb.classify_review(review) for review in deceptive_validation_text.split('\\n')]\n",
    "deceptive_validation_accuracy_counts = Counter(deceptive_validation_classifications)\n",
    "print(deceptive_validation_accuracy_counts)\n",
    "print('Accuracy rate:', \n",
    "      deceptive_validation_accuracy_counts['deceptive']/sum(deceptive_validation_accuracy_counts.values()))"
   ]
  },
  {
   "cell_type": "code",
   "execution_count": 13,
   "metadata": {},
   "outputs": [],
   "source": [
    "import csv"
   ]
  },
  {
   "cell_type": "code",
   "execution_count": 25,
   "metadata": {},
   "outputs": [],
   "source": [
    "with open('./DATASET/test/test.txt') as t:\n",
    "    test_text = t.read()\n",
    "\n",
    "    deceptive_validation_classifications = \\\n",
    "    test_results=[nb.classify_review(review) for review in test_text.split('\\n')]"
   ]
  },
  {
   "cell_type": "code",
   "execution_count": 30,
   "metadata": {},
   "outputs": [],
   "source": [
    "test_results\n",
    "test_ids = [id_ for id_ in range(0, len(test_text.split('\\n')))]"
   ]
  },
  {
   "cell_type": "code",
   "execution_count": 31,
   "metadata": {},
   "outputs": [],
   "source": [
    "test_ids\n",
    "df = pd.DataFrame({'Id'})"
   ]
  },
  {
   "cell_type": "code",
   "execution_count": 37,
   "metadata": {},
   "outputs": [],
   "source": [
    "df = pd.DataFrame({'Id' : test_ids, 'Prediction':test_results}, columns=['Id', 'Prediction'])\n",
    "df.to_csv('naive_bayes_unigram.csv')"
   ]
  },
  {
   "cell_type": "code",
   "execution_count": 34,
   "metadata": {},
   "outputs": [
    {
     "data": {
      "text/plain": [
       "321"
      ]
     },
     "execution_count": 34,
     "metadata": {},
     "output_type": "execute_result"
    }
   ],
   "source": []
  },
  {
   "cell_type": "code",
   "execution_count": null,
   "metadata": {},
   "outputs": [],
   "source": []
  }
 ],
 "metadata": {
  "kernelspec": {
   "display_name": "Python 3",
   "language": "python",
   "name": "python3"
  },
  "language_info": {
   "codemirror_mode": {
    "name": "ipython",
    "version": 3
   },
   "file_extension": ".py",
   "mimetype": "text/x-python",
   "name": "python",
   "nbconvert_exporter": "python",
   "pygments_lexer": "ipython3",
   "version": "3.6.8"
  }
 },
 "nbformat": 4,
 "nbformat_minor": 2
}
