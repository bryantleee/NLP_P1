{
 "cells": [
  {
   "cell_type": "code",
   "execution_count": 155,
   "metadata": {},
   "outputs": [],
   "source": [
    "import re\n",
    "from collections import Counter\n",
    "import math\n",
    "import pandas as pd\n",
    "\n",
    "class bigram_nb_classifier():\n",
    "    def __init__(self, training_truthful_text, training_deceptive_text):\n",
    "        self.truthful_text = self.add_start_characters(training_truthful_text)\n",
    "        self.deceptive_text = self.add_start_characters(training_deceptive_text)\n",
    "        \n",
    "        #AKA the unigram counts\n",
    "        self.truthful_reviews_Counter = Counter(self.truthful_text.split())\n",
    "        self.deceptive_reviews_Counter = Counter(self.deceptive_text.split())\n",
    "        \n",
    "        self.truthful_total_words = sum(self.truthful_reviews_Counter.values())\n",
    "        self.deceptive_total_words = sum(self.deceptive_reviews_Counter.values())\n",
    "        \n",
    "        self.truthful_reviews_len = len(self.truthful_text.split('\\n'))\n",
    "        self.deceptive_reviews_len = len(self.truthful_text.split('\\n'))\n",
    "\n",
    "        self.both_reviews_Counter = self.truthful_reviews_Counter + self.deceptive_reviews_Counter\n",
    "        self.vocabulary_size = len(self.both_reviews_Counter.keys())\n",
    "        self.word_pattern = re.compile(\"(\\w+|<s> |[,.!;])\")\n",
    "\n",
    "        self.truthful_bigram_counts = self.get_bigram_counts(self.truthful_text.split())\n",
    "        self.deceptive_bigram_counts = self.get_bigram_counts(self.deceptive_text.split())\n",
    "\n",
    "        self.smoothed_truthful_bigram_counts = \\\n",
    "            self.get_smoothed_bigram_corpus(self.truthful_reviews_Counter , self.truthful_bigram_counts)\n",
    "        self.smoothed_deceptive_bigram_counts = \\\n",
    "            self.get_smoothed_bigram_corpus(self.deceptive_reviews_Counter , self.deceptive_bigram_counts)\n",
    "\n",
    "    def add_start_characters(self, words):\n",
    "        words = '<s> ' + words\n",
    "        words = words.replace('\\n', ' <s> ')\n",
    "        return words[:-5]\n",
    "        \n",
    "    def get_bigram_counts(self, word_list):\n",
    "        corpus = {}\n",
    "        for i, word in enumerate(word_list[1:], start=1):\n",
    "            if word != '<s>':\n",
    "                if (word_list[i-1], word) not in corpus:\n",
    "                    corpus[(word_list[i-1], word)] = 1\n",
    "                else:\n",
    "                    corpus[(word_list[i-1], word)] += 1\n",
    "        return corpus\n",
    "    \n",
    "    \n",
    "    def check_for_unk_words(self, word_list, corpus):        \n",
    "        for i, word in enumerate(word_list):\n",
    "            if word not in corpus:\n",
    "                  word_list[i] = '<UNK>'\n",
    "        return word_list\n",
    "    \n",
    "    \n",
    "    def get_smoothed_bigram_corpus(self, unigram_corpus, bigrams):\n",
    "        unigram_corpus['<UNK>'] = 1\n",
    "        df = pd.DataFrame(1, index = unigram_corpus, columns = unigram_corpus) \n",
    "        for bigram in bigrams:\n",
    "            df.loc[bigram[0], bigram[1]] += bigrams[bigram]\n",
    "        return df\n",
    "\n",
    "    # given an inputted review, return a list of bigrams, used for parsing reviews in the classify method\n",
    "    def get_bigram_list(self, review, corpus):\n",
    "        word_list = [word for word in self.word_pattern.findall(review)]\n",
    "        word_list = self.check_for_unk_words(word_list, corpus)\n",
    "        list_of_bigrams = []\n",
    "        for i, word in enumerate(word_list[1:], start=1):\n",
    "            list_of_bigrams.append((word_list[i-1], word))\n",
    "\n",
    "        return list_of_bigrams\n",
    "\n",
    "\n",
    "    def get_smoothed_bigram_log_prob(self, bigram, smoothed_bigram_corpus):\n",
    "        return math.log(smoothed_bigram_corpus.loc[bigram[0], bigram[1]]/smoothed_bigram_corpus.loc[bigram[0]].sum())\n",
    "    \n",
    "\n",
    "    def smoothed_review_log_prob(self, review, counter, smoothed_bigram_corpus, unigram_corpus):\n",
    "        bigram_list = self.get_bigram_list(review, unigram_corpus)\n",
    "        log_prob = 0.0\n",
    "        for bigram in bigram_list:\n",
    "            log_prob += self.get_smoothed_bigram_log_prob(bigram, smoothed_bigram_corpus)\n",
    "        return log_prob\n",
    "    \n",
    "\n",
    "    def classify_review(self, review):\n",
    "        review = '<s> ' + review        \n",
    "        \n",
    "        truthful_prob = self.smoothed_review_log_prob(review,\n",
    "                            self.truthful_bigram_counts, self.smoothed_truthful_bigram_counts, \\\n",
    "                            self.truthful_reviews_Counter)\n",
    "        deceptive_prob = self.smoothed_review_log_prob(review,\n",
    "                                self.deceptive_bigram_counts, self.smoothed_deceptive_bigram_counts, \\\n",
    "                                self.deceptive_reviews_Counter)\n",
    "        \n",
    "    \n",
    "        # get ratio between the two (since this training set has the same number of reviews, this code is optional)\n",
    "#         truthful_prob = truthful_prob + \\\n",
    "#             math.log(self.truthful_reviews_len/(self.truthful_reviews_len + self.deceptive_reviews_len))\n",
    "#         deceptive_prob = deceptive_prob + \\\n",
    "#             math.log(self.deceptive_reviews_len /(self.truthful_reviews_len + self.deceptive_reviews_len))\n",
    "\n",
    "        return 'truthful' if truthful_prob >= deceptive_prob else 'deceptive'\n"
   ]
  },
  {
   "cell_type": "code",
   "execution_count": 156,
   "metadata": {},
   "outputs": [],
   "source": [
    "with open('./DATASET/train/truthful.txt') as t, open('./DATASET/train/deceptive.txt') as d:\n",
    "    truthful_training_text = t.read()\n",
    "    deceptive_training_text = d.read()"
   ]
  },
  {
   "cell_type": "code",
   "execution_count": 157,
   "metadata": {},
   "outputs": [],
   "source": [
    "bnb = bigram_nb_classifier(truthful_training_text, deceptive_training_text)"
   ]
  },
  {
   "cell_type": "code",
   "execution_count": 158,
   "metadata": {},
   "outputs": [],
   "source": [
    "with open('./DATASET/validation/truthful.txt') as t, open('./DATASET/validation/deceptive.txt') as d:\n",
    "    truthful_validation_text = t.read()\n",
    "    deceptive_validation_text = d.read()"
   ]
  },
  {
   "cell_type": "code",
   "execution_count": 159,
   "metadata": {},
   "outputs": [
    {
     "name": "stdout",
     "output_type": "stream",
     "text": [
      "Counter({'deceptive': 106, 'truthful': 23})\n",
      "Accuracy rate: 0.17829457364341086\n"
     ]
    }
   ],
   "source": [
    "truthful_validation_classifications = \\\n",
    "    [bnb.classify_review(review) for review in truthful_validation_text.split('\\n')]\n",
    "truthful_validation_accuracy_counts = Counter(truthful_validation_classifications)\n",
    "print(truthful_validation_accuracy_counts)\n",
    "print('Accuracy rate:', \n",
    "      truthful_validation_accuracy_counts['truthful']/sum(truthful_validation_accuracy_counts.values()))"
   ]
  },
  {
   "cell_type": "code",
   "execution_count": 160,
   "metadata": {},
   "outputs": [
    {
     "name": "stdout",
     "output_type": "stream",
     "text": [
      "Counter({'deceptive': 128, 'truthful': 1})\n",
      "Accuracy rate: 0.9922480620155039\n"
     ]
    }
   ],
   "source": [
    "deceptive_validation_classifications = \\\n",
    "    [bnb.classify_review(review) for review in deceptive_validation_text.split('\\n')]\n",
    "deceptive_validation_accuracy_counts = Counter(deceptive_validation_classifications)\n",
    "print(deceptive_validation_accuracy_counts)\n",
    "print('Accuracy rate:', \n",
    "      deceptive_validation_accuracy_counts['deceptive']/sum(deceptive_validation_accuracy_counts.values()))"
   ]
  },
  {
   "cell_type": "code",
   "execution_count": null,
   "metadata": {},
   "outputs": [],
   "source": []
  },
  {
   "cell_type": "markdown",
   "metadata": {},
   "source": []
  }
 ],
 "metadata": {
  "kernelspec": {
   "display_name": "Python 3",
   "language": "python",
   "name": "python3"
  },
  "language_info": {
   "codemirror_mode": {
    "name": "ipython",
    "version": 3
   },
   "file_extension": ".py",
   "mimetype": "text/x-python",
   "name": "python",
   "nbconvert_exporter": "python",
   "pygments_lexer": "ipython3",
   "version": "3.6.8"
  }
 },
 "nbformat": 4,
 "nbformat_minor": 2
}
