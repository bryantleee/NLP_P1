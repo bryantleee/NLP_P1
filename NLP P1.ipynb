{
 "cells": [
  {
   "cell_type": "code",
   "execution_count": 130,
   "metadata": {},
   "outputs": [],
   "source": [
    "from collections import Counter"
   ]
  },
  {
   "cell_type": "code",
   "execution_count": 82,
   "metadata": {},
   "outputs": [],
   "source": [
    "with open('./DATASET/train/truthful.txt') as t, open('./DATASET/train/deceptive.txt') as d:\n",
    "    truthful = t.read()\n",
    "    deceptive =d.read()"
   ]
  },
  {
   "cell_type": "code",
   "execution_count": 170,
   "metadata": {},
   "outputs": [],
   "source": [
    "truthful_unigram = dict(Counter(clean_text(truthful).split()))\n",
    "deceptive_unigram = dict(Counter(clean_text(deceptive).split()))"
   ]
  },
  {
   "cell_type": "code",
   "execution_count": 171,
   "metadata": {},
   "outputs": [],
   "source": [
    "def clean_text(words):\n",
    "    words = '<s> ' + words\n",
    "    words = words.replace('\\n', ' <s> ')\n",
    "    return words[:-5]\n",
    "    "
   ]
  },
  {
   "cell_type": "code",
   "execution_count": 172,
   "metadata": {},
   "outputs": [],
   "source": [
    "def get_bigram_counts(words):\n",
    "    words = clean_text(words)\n",
    "    \n",
    "    word_list = words.split()\n",
    "    corpus = {}\n",
    "    for i, word in enumerate(word_list[1:], start=1):\n",
    "        if word != '<s>':\n",
    "            if (word_list[i-1], word) not in corpus:\n",
    "                corpus[(word_list[i-1], word)] = 1\n",
    "            else:\n",
    "                corpus[(word_list[i-1], word)] += 1\n",
    "        \n",
    "    return filter_start_chars(corpus)"
   ]
  },
  {
   "cell_type": "code",
   "execution_count": 173,
   "metadata": {},
   "outputs": [],
   "source": [
    "truthful_bigram = get_bigram_counts(truthful)\n",
    "deceptive_bigram = get_bigram_counts(deceptive)"
   ]
  },
  {
   "cell_type": "code",
   "execution_count": 179,
   "metadata": {},
   "outputs": [],
   "source": [
    "def get_unigram_prob(corpus, unigram_to_test):\n",
    "    total_words = 0\n",
    "    for key in corpus:\n",
    "        total_words += corpus[key]\n",
    "\n",
    "    return corpus[unigram_to_test]/total_words"
   ]
  },
  {
   "cell_type": "code",
   "execution_count": 180,
   "metadata": {},
   "outputs": [
    {
     "data": {
      "text/plain": [
       "0.02905073649754501"
      ]
     },
     "execution_count": 180,
     "metadata": {},
     "output_type": "execute_result"
    }
   ],
   "source": [
    "get_unigram_prob(deceptive_unigram, 'I')"
   ]
  },
  {
   "cell_type": "code",
   "execution_count": 182,
   "metadata": {},
   "outputs": [],
   "source": [
    "def get_bigram_prob(corpus, bigram_to_test):\n",
    "    total_words = 0\n",
    "    for key in corpus:\n",
    "        if key[0] == bigram_to_test[0]:\n",
    "            total_words += corpus[key]\n",
    "\n",
    "    return corpus[bigram_to_test]/total_words"
   ]
  },
  {
   "cell_type": "code",
   "execution_count": 184,
   "metadata": {},
   "outputs": [
    {
     "data": {
      "text/plain": [
       "0.01488933601609658"
      ]
     },
     "execution_count": 184,
     "metadata": {},
     "output_type": "execute_result"
    }
   ],
   "source": [
    "get_bigram_prob(deceptive_bigram, ('I', 'am'))"
   ]
  },
  {
   "cell_type": "code",
   "execution_count": null,
   "metadata": {},
   "outputs": [],
   "source": []
  }
 ],
 "metadata": {
  "kernelspec": {
   "display_name": "Python 3",
   "language": "python",
   "name": "python3"
  },
  "language_info": {
   "codemirror_mode": {
    "name": "ipython",
    "version": 3
   },
   "file_extension": ".py",
   "mimetype": "text/x-python",
   "name": "python",
   "nbconvert_exporter": "python",
   "pygments_lexer": "ipython3",
   "version": "3.6.8"
  }
 },
 "nbformat": 4,
 "nbformat_minor": 2
}
