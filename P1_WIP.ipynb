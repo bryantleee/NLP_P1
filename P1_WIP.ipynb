{
 "cells": [
  {
   "cell_type": "markdown",
   "metadata": {},
   "source": [
    "# 2 : Dataset"
   ]
  },
  {
   "cell_type": "code",
   "execution_count": 380,
   "metadata": {},
   "outputs": [],
   "source": [
    "from collections import Counter\n",
    "import pandas as pd\n",
    "import math\n",
    "\n",
    "with open('./DATASET/train/truthful.txt') as t, open('./DATASET/train/deceptive.txt') as d:\n",
    "    T_TRAIN = t.read()\n",
    "    D_TRAIN = d.read()\n",
    "    \n",
    "with open('./DATASET/validation/truthful.txt') as t, open('./DATASET/validation/deceptive.txt') as d:\n",
    "    T_VAL = t.read()\n",
    "    D_VAL = d.read()"
   ]
  },
  {
   "cell_type": "markdown",
   "metadata": {},
   "source": [
    "# 3 : Unsmoothed N-Grams\n",
    "### 3.1 : Preprocessing"
   ]
  },
  {
   "cell_type": "code",
   "execution_count": 398,
   "metadata": {},
   "outputs": [],
   "source": [
    "def preprocess(text):\n",
    "    return add_start_characters(text).split()\n",
    "    \n",
    "def add_start_characters(words):\n",
    "    words = '<s> ' + words\n",
    "    words = words.replace('\\n', ' <s> ')\n",
    "    return words[:-5] if words[-5:] == ' <s> ' else words"
   ]
  },
  {
   "cell_type": "markdown",
   "metadata": {},
   "source": [
    "### 3.2 : Unsmoothed Unigram Probability"
   ]
  },
  {
   "cell_type": "code",
   "execution_count": 399,
   "metadata": {},
   "outputs": [],
   "source": [
    "def get_unigram_corpus(wordlist):\n",
    "    return dict(Counter(wordlist))\n",
    "\n",
    "def get_unigram_prob(unigram, unigram_corpus):\n",
    "    acc = 0\n",
    "    for key in unigram_corpus:\n",
    "        acc += unigram_corpus[key]\n",
    "    # I changed the default value to 1 from 0 to reflect smoothing\n",
    "    return unigram_corpus.get(unigram, 1)/acc"
   ]
  },
  {
   "cell_type": "markdown",
   "metadata": {},
   "source": [
    "### 3.3 : Unsmoothed Bigram Probability"
   ]
  },
  {
   "cell_type": "code",
   "execution_count": 400,
   "metadata": {},
   "outputs": [],
   "source": [
    "def get_bigram_corpus(wordlist):\n",
    "    corpus = {}\n",
    "    for i, word in enumerate(wordlist[1:], start=1):\n",
    "        if word != '<s>':\n",
    "            if (wordlist[i-1], word) not in corpus:\n",
    "                corpus[(wordlist[i-1], word)] = 1\n",
    "            else:\n",
    "                corpus[(wordlist[i-1], word)] += 1\n",
    "    return corpus\n",
    "\n",
    "def get_bigram_prob(bigram, bigram_corpus):\n",
    "    acc = 0\n",
    "    for key in bigram_corpus:\n",
    "        if key[0] == bigram[0]:\n",
    "            acc += bigram_corpus[key]\n",
    "    return bigram_corpus[bigram] / acc"
   ]
  },
  {
   "cell_type": "markdown",
   "metadata": {},
   "source": [
    "# 4 : Smoothing and Unknown Words\n",
    "### 4.1 : Unknown Word Handling"
   ]
  },
  {
   "cell_type": "code",
   "execution_count": 401,
   "metadata": {},
   "outputs": [],
   "source": [
    "def check_for_unk_words(wordlist, tokenlist):\n",
    "    # replace all unknown words with <UNK> token\n",
    "    for i, token in enumerate(wordlist):\n",
    "        if token not in tokenlist:\n",
    "              wordlist[i] = '<UNK>'\n",
    "    return wordlist"
   ]
  },
  {
   "cell_type": "markdown",
   "metadata": {},
   "source": [
    "### 4.2 : Smooth Bigram Probability"
   ]
  },
  {
   "cell_type": "code",
   "execution_count": 402,
   "metadata": {},
   "outputs": [],
   "source": [
    "# added <UNK> as a token when creating the smooth bigram corpus \n",
    "def get_smooth_bigram_corpus(tokenlist, bigram_corpus):\n",
    "    tokenlist.append('<UNK>')\n",
    "    df = pd.DataFrame(1, index = tokenlist, columns = tokenlist) \n",
    "    for bigram in bigram_corpus:\n",
    "        df.loc[bigram[0], bigram[1]] += bigram_corpus[bigram]\n",
    "    return df\n",
    "\n",
    "def get_smooth_bigram_prob(bigram, smooth_bigram_corpus):\n",
    "    return smooth_bigram_corpus.loc[bigram[0], bigram[1]]/smooth_bigram_corpus.loc[bigram[0]].sum()"
   ]
  },
  {
   "cell_type": "markdown",
   "metadata": {},
   "source": [
    "# 5 : Perplexity"
   ]
  },
  {
   "cell_type": "code",
   "execution_count": 403,
   "metadata": {},
   "outputs": [],
   "source": [
    "class NGramModel():\n",
    "    def __init__(self, *args):\n",
    "        super(NGramModel, self).__init__()\n",
    "    \n",
    "    def get_perp(self, *args):\n",
    "        return\n",
    "        \n",
    "    \n",
    "        \n",
    "class UnigramModel(NGramModel):\n",
    "    # assumes data is preprocessed list of words (strings)   \n",
    "    def __init__(self, data):\n",
    "        super(UnigramModel, self).__init__()\n",
    "        self.corpus = get_unigram_corpus(data)\n",
    "\n",
    "    # assumes test_corpus is a preprocessed list of words (strings)\n",
    "    def get_perp(self, test_corpus):\n",
    "        N = len(test_corpus)\n",
    "        acc = 0\n",
    "        for word in test_corpus:\n",
    "            acc -= math.log(get_unigram_prob(word, self.corpus))\n",
    "        return math.exp((1/N) * acc)\n",
    "\n",
    "    \n",
    "    \n",
    "class BigramModel(NGramModel):\n",
    "    # assumes data is preprocessed list of words (strings)\n",
    "    def __init__(self, data):\n",
    "        super(BigramModel, self).__init__()\n",
    "        self.corpus = get_bigram_corpus(data)\n",
    "    \n",
    "    # assumes test_corpus is a preprocessed list of words (strings)\n",
    "    def get_perp(self, test_corpus):\n",
    "        N = len(test_corpus)\n",
    "        acc = 0\n",
    "        for i, word in enumerate(test_corpus):\n",
    "            if i == 0:\n",
    "                # we divide by N-1 because we don't compute the probability of the first term in the corpus\n",
    "                continue\n",
    "            bigram = (test_corpus[i-1], word)\n",
    "            acc -= math.log(get_bigram_prob(bigram, self.corpus))\n",
    "        return math.exp((1/(N-1)) * acc)\n",
    "    \n",
    "    \n",
    "    \n",
    "class SmoothBigramModel(NGramModel):\n",
    "    # assumes data is preprocessed list of words (strings)\n",
    "    def __init__(self, data):\n",
    "        super(SmoothBigramModel, self).__init__()\n",
    "        self.tokens = list(get_unigram_corpus(data).keys())\n",
    "        corpus = get_bigram_corpus(data)\n",
    "        self.corpus = get_smooth_bigram_corpus(self.tokens, corpus)\n",
    "    \n",
    "    # assumes test_corpus is a preprocessed list of words (strings)\n",
    "    def get_perp(self, test_corpus):\n",
    "        N = len(test_corpus)\n",
    "        acc = 0\n",
    "        for i, word in enumerate(test_corpus):\n",
    "            if i == 0:\n",
    "                # we divide by N-1 because we don't compute the probability of the first term in the corpus\n",
    "                continue\n",
    "            bigram = (test_corpus[i-1], word)\n",
    "            acc -= math.log(get_smooth_bigram_prob(bigram, self.corpus))\n",
    "        return math.exp((1/(N-1)) * acc)"
   ]
  },
  {
   "cell_type": "code",
   "execution_count": 404,
   "metadata": {},
   "outputs": [],
   "source": [
    "truthful_unigram_model = UnigramModel(preprocess(T_TRAIN))\n",
    "deceptive_unigram_model = UnigramModel(preprocess(D_TRAIN))\n",
    "\n",
    "truthful_smooth_bigram_model = SmoothBigramModel(preprocess(T_TRAIN))\n",
    "deceptive_smooth_bigram_model = SmoothBigramModel(preprocess(D_TRAIN))"
   ]
  },
  {
   "cell_type": "code",
   "execution_count": 405,
   "metadata": {},
   "outputs": [],
   "source": [
    "# for computing perplexity of both validation sets on truthfully-trained unigram/bigram models\n",
    "T_VAL_CLEAN_T = check_for_unk_words(preprocess(T_VAL), truthful_smooth_bigram_model.tokens)\n",
    "D_VAL_CLEAN_T = check_for_unk_words(preprocess(D_VAL), truthful_smooth_bigram_model.tokens)\n",
    "\n",
    "# for computing perplexity of both validation sets on deceptively-trained unigram/bigram models\n",
    "T_VAL_CLEAN_D = check_for_unk_words(preprocess(T_VAL), deceptive_smooth_bigram_model.tokens)\n",
    "D_VAL_CLEAN_D = check_for_unk_words(preprocess(D_VAL), deceptive_smooth_bigram_model.tokens)"
   ]
  },
  {
   "cell_type": "code",
   "execution_count": 406,
   "metadata": {},
   "outputs": [
    {
     "name": "stdout",
     "output_type": "stream",
     "text": [
      "575.8911106150354\n",
      "507.2203959017036\n",
      "615.8537298038397\n",
      "463.8680901825986\n",
      "1454.340989231253\n",
      "1281.9503153726475\n",
      "1324.6771814849794\n",
      "958.4681090581158\n"
     ]
    }
   ],
   "source": [
    "print(truthful_unigram_model.get_perp(T_VAL_CLEAN_T))\n",
    "print(truthful_unigram_model.get_perp(D_VAL_CLEAN_T))\n",
    "\n",
    "print(deceptive_unigram_model.get_perp(T_VAL_CLEAN_D))\n",
    "print(deceptive_unigram_model.get_perp(D_VAL_CLEAN_D))\n",
    "\n",
    "print(truthful_smooth_bigram_model.get_perp(T_VAL_CLEAN_T))\n",
    "print(truthful_smooth_bigram_model.get_perp(D_VAL_CLEAN_T))\n",
    "\n",
    "print(deceptive_smooth_bigram_model.get_perp(T_VAL_CLEAN_D))\n",
    "print(deceptive_smooth_bigram_model.get_perp(D_VAL_CLEAN_D))"
   ]
  },
  {
   "cell_type": "code",
   "execution_count": 407,
   "metadata": {},
   "outputs": [],
   "source": [
    "def separate_and_label_reviews(wordlist, label):\n",
    "    start = 0\n",
    "    reviews = {}\n",
    "    for i, word in enumerate(wordlist):\n",
    "        if word == '<s>' and i != 0:\n",
    "            review = tuple(wordlist[start:i])\n",
    "            reviews[review] = label\n",
    "            start = i+1\n",
    "    return reviews\n",
    "\n",
    "# for testing the accuracy of the language based classifier on the validation set\n",
    "# TOKENS = list(set().union(truthful_smooth_bigram_model.tokens, deceptive_smooth_bigram_model.tokens))\n",
    "TOKENS = check_for_unk_words(preprocess(T_VAL), truthful_smooth_bigram_model.tokens)\n",
    "TOKENS = check_for_unk_words(TOKENS, deceptive_smooth_bigram_model.tokens)\n",
    "\n",
    "REVIEWS_T = check_for_unk_words(preprocess(T_VAL), TOKENS)\n",
    "REVIEWS_D = check_for_unk_words(preprocess(D_VAL), TOKENS)\n",
    "\n",
    "REVIEWS = {**separate_and_label_reviews(REVIEWS_T, 1), **separate_and_label_reviews(REVIEWS_D, 0)}\n",
    "# now REVIEWS is a dictionary where the keys are the validation (truthful or deceptive) reviews\n",
    "# and the values are the classification labels"
   ]
  },
  {
   "cell_type": "code",
   "execution_count": 408,
   "metadata": {},
   "outputs": [],
   "source": [
    "# return value of 1 ==> truthful, 0 ==> deceptive\n",
    "def classify(review, truthful_model, deceptive_model):\n",
    "    return 1 if truthful_model.get_perp(review) < deceptive_model.get_perp(review) else 0"
   ]
  },
  {
   "cell_type": "code",
   "execution_count": 409,
   "metadata": {},
   "outputs": [],
   "source": [
    "def validate(reviews, truthful_model, deceptive_model):\n",
    "    acc = 0\n",
    "    for review in reviews:\n",
    "        if classify(review, truthful_model, deceptive_model) == reviews[review]:\n",
    "            acc += 1\n",
    "    return acc / len(reviews)"
   ]
  },
  {
   "cell_type": "code",
   "execution_count": 410,
   "metadata": {},
   "outputs": [
    {
     "data": {
      "text/plain": [
       "0.5590551181102362"
      ]
     },
     "execution_count": 410,
     "metadata": {},
     "output_type": "execute_result"
    }
   ],
   "source": [
    "validate(REVIEWS, truthful_smooth_bigram_model, deceptive_smooth_bigram_model)"
   ]
  },
  {
   "cell_type": "code",
   "execution_count": 411,
   "metadata": {},
   "outputs": [
    {
     "data": {
      "text/plain": [
       "0.8700787401574803"
      ]
     },
     "execution_count": 411,
     "metadata": {},
     "output_type": "execute_result"
    }
   ],
   "source": [
    "validate(REVIEWS, truthful_unigram_model, deceptive_unigram_model)"
   ]
  },
  {
   "cell_type": "code",
   "execution_count": 416,
   "metadata": {},
   "outputs": [
    {
     "name": "stdout",
     "output_type": "stream",
     "text": [
      "          <s>  I  like  to  run  and  hate  have  do  homework  <UNK>\n",
      "<s>         1  2     1   1    1    1     1     1   1         1      1\n",
      "I           1  1     2   1    1    1     2     1   1         1      1\n",
      "like        1  1     1   2    1    1     1     1   1         1      1\n",
      "to          1  1     1   1    2    1     1     2   2         1      1\n",
      "run         1  1     1   1    1    2     1     1   1         1      1\n",
      "and         1  2     1   1    1    1     1     1   1         1      1\n",
      "hate        1  1     1   2    1    1     1     1   1         1      1\n",
      "have        1  1     1   2    1    1     1     1   1         1      1\n",
      "do          1  1     1   1    1    1     1     1   1         2      1\n",
      "homework    1  1     1   1    1    1     1     1   1         1      1\n",
      "<UNK>       1  1     1   1    1    1     1     1   1         1      1\n",
      "7.7639360766563055\n"
     ]
    }
   ],
   "source": [
    "toy_train = preprocess('I like to run and I hate to have to do homework')\n",
    "toy_model = SmoothBigramModel(toy_train)\n",
    "print(toy_model.corpus)\n",
    "toy_val = check_for_unk_words(preprocess('I like homework'), toy_model.tokens)\n",
    "print(toy_model.get_perp(toy_val))"
   ]
  },
  {
   "cell_type": "code",
   "execution_count": null,
   "metadata": {},
   "outputs": [],
   "source": []
  }
 ],
 "metadata": {
  "kernelspec": {
   "display_name": "Python 3",
   "language": "python",
   "name": "python3"
  },
  "language_info": {
   "codemirror_mode": {
    "name": "ipython",
    "version": 3
   },
   "file_extension": ".py",
   "mimetype": "text/x-python",
   "name": "python",
   "nbconvert_exporter": "python",
   "pygments_lexer": "ipython3",
   "version": "3.7.3"
  }
 },
 "nbformat": 4,
 "nbformat_minor": 2
}
